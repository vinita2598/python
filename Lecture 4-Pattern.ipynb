{
 "cells": [
  {
   "cell_type": "markdown",
   "id": "04c86add",
   "metadata": {},
   "source": [
    "### Step to think before writing code for pattern\n",
    "1- How many rows?\n",
    "2- how many columns to print for ith row?\n",
    "3- What to print?"
   ]
  },
  {
   "cell_type": "code",
   "execution_count": null,
   "id": "45606de0",
   "metadata": {},
   "outputs": [],
   "source": [
    "Square pattern\n",
    "*****\n",
    "*****\n",
    "*****\n"
   ]
  },
  {
   "cell_type": "code",
   "execution_count": 20,
   "id": "67b9d774",
   "metadata": {
    "scrolled": true
   },
   "outputs": [
    {
     "name": "stdout",
     "output_type": "stream",
     "text": [
      "4\n",
      "****\n",
      "****\n",
      "****\n",
      "****\n"
     ]
    }
   ],
   "source": [
    "n=int(input())\n",
    "\n",
    "j=0\n",
    "while j<n:\n",
    "    i=0\n",
    "    while i<n:\n",
    "        print(\"*\",end='')    #end='' for space after star, not the by default next line movement\n",
    "        i=i+1\n",
    "    print()        \n",
    "    j=j+1   "
   ]
  },
  {
   "cell_type": "code",
   "execution_count": null,
   "id": "82302b8c",
   "metadata": {},
   "outputs": [],
   "source": [
    "*\n",
    "**\n",
    "***\n",
    "****"
   ]
  },
  {
   "cell_type": "code",
   "execution_count": 35,
   "id": "2a900a83",
   "metadata": {},
   "outputs": [
    {
     "name": "stdout",
     "output_type": "stream",
     "text": [
      "4\n",
      "*\n",
      "**\n",
      "***\n",
      "****\n"
     ]
    }
   ],
   "source": [
    "n=int(input())\n",
    "\n",
    "j=0\n",
    "while j<n:\n",
    "    i=0\n",
    "    while i<j+1:\n",
    "        print(\"*\",end='')    #end='' for space after star, not the by default next line movement\n",
    "        i=i+1\n",
    "    print()        \n",
    "    j=j+1 "
   ]
  },
  {
   "cell_type": "markdown",
   "id": "6b778afc",
   "metadata": {},
   "source": [
    "Square pattern\n",
    "1111\n",
    "2222\n",
    "3333\n",
    "4444"
   ]
  },
  {
   "cell_type": "code",
   "execution_count": 24,
   "id": "a04ae463",
   "metadata": {},
   "outputs": [
    {
     "name": "stdout",
     "output_type": "stream",
     "text": [
      "4\n",
      "1111\n",
      "2222\n",
      "3333\n",
      "4444\n"
     ]
    }
   ],
   "source": [
    "n=int(input())\n",
    "\n",
    "j=1\n",
    "while j<=n:\n",
    "    i=1\n",
    "    while i<=n:\n",
    "        print(j,end='')    #end='' for space after star, not the by default next line movement\n",
    "        i=i+1\n",
    "    print()        \n",
    "    j=j+1  "
   ]
  },
  {
   "cell_type": "code",
   "execution_count": null,
   "id": "cd463042",
   "metadata": {},
   "outputs": [],
   "source": [
    "Square pattern\n",
    "1234\n",
    "1234\n",
    "1234\n",
    "1234"
   ]
  },
  {
   "cell_type": "code",
   "execution_count": 26,
   "id": "a1e30722",
   "metadata": {},
   "outputs": [
    {
     "name": "stdout",
     "output_type": "stream",
     "text": [
      "3\n",
      "123\n",
      "123\n",
      "123\n"
     ]
    }
   ],
   "source": [
    "n=int(input())\n",
    "\n",
    "j=1\n",
    "while j<=n:\n",
    "    i=1\n",
    "    while i<=n:\n",
    "        print(i,end='')    #end='' for space after star, not the by default next line movement\n",
    "        i=i+1\n",
    "    print()        \n",
    "    j=j+1  "
   ]
  },
  {
   "cell_type": "code",
   "execution_count": null,
   "id": "07582070",
   "metadata": {},
   "outputs": [],
   "source": [
    "Square pattern\n",
    "4321\n",
    "4321\n",
    "4321\n",
    "4321"
   ]
  },
  {
   "cell_type": "code",
   "execution_count": 30,
   "id": "ce1fd5d2",
   "metadata": {},
   "outputs": [
    {
     "name": "stdout",
     "output_type": "stream",
     "text": [
      "4\n",
      "4321\n",
      "4321\n",
      "4321\n",
      "4321\n"
     ]
    }
   ],
   "source": [
    "n=int(input())\n",
    "\n",
    "j=1\n",
    "while j<=n:\n",
    "    i=1\n",
    "    k=n\n",
    "    while i<=n:   \n",
    "        print(k,end='')    #end='' for space after star, not the by default next line movement\n",
    "        k=k-1\n",
    "        i=i+1\n",
    "    print()        \n",
    "    j=j+1  "
   ]
  },
  {
   "cell_type": "code",
   "execution_count": null,
   "id": "8e71415b",
   "metadata": {},
   "outputs": [],
   "source": [
    "1\n",
    "123\n",
    "1234"
   ]
  },
  {
   "cell_type": "code",
   "execution_count": 33,
   "id": "a65dc8bb",
   "metadata": {},
   "outputs": [
    {
     "name": "stdout",
     "output_type": "stream",
     "text": [
      "4\n",
      "1\n",
      "12\n",
      "123\n",
      "1234\n"
     ]
    }
   ],
   "source": [
    "n=int(input())\n",
    "\n",
    "j=1\n",
    "while j<=n:\n",
    "    i=1\n",
    "    while i<j+1:\n",
    "        print(i,end='')    #end='' for space after star, not the by default next line movement\n",
    "        i=i+1\n",
    "    print()        \n",
    "    j=j+1"
   ]
  },
  {
   "cell_type": "code",
   "execution_count": null,
   "id": "87072b55",
   "metadata": {},
   "outputs": [],
   "source": [
    "1\n",
    "23\n",
    "345\n",
    "4567"
   ]
  },
  {
   "cell_type": "code",
   "execution_count": 40,
   "id": "085d3555",
   "metadata": {},
   "outputs": [
    {
     "name": "stdout",
     "output_type": "stream",
     "text": [
      "4\n",
      "1\n",
      "23\n",
      "345\n",
      "4567\n"
     ]
    }
   ],
   "source": [
    "n=int(input())\n",
    "\n",
    "j=1\n",
    "while j<=n:   #for number of rows\n",
    "    i=1\n",
    "    k=j\n",
    "    while i<j+1:      #for number of columns\n",
    "        print(k,end='')    #end='' for space after star, not the by default next line movement\n",
    "        k=k+1\n",
    "        i=i+1\n",
    "    print()        \n",
    "    j=j+1 "
   ]
  },
  {
   "cell_type": "code",
   "execution_count": null,
   "id": "7f3b8637",
   "metadata": {},
   "outputs": [],
   "source": [
    "1\n",
    "23\n",
    "456\n",
    "78910"
   ]
  },
  {
   "cell_type": "code",
   "execution_count": 3,
   "id": "63a10489",
   "metadata": {},
   "outputs": [
    {
     "name": "stdout",
     "output_type": "stream",
     "text": [
      "4\n",
      "1\n",
      "23\n",
      "456\n",
      "78910\n"
     ]
    }
   ],
   "source": [
    "n=int(input())\n",
    "k=1\n",
    "j=1\n",
    "while j<=n:                #for number of rows\n",
    "    i=1\n",
    "    while i<j+1:           #for number of columns\n",
    "        print(k,end='')    #end='' for space after star, not the by default next line movement\n",
    "        k=k+1\n",
    "        i=i+1\n",
    "    print()        \n",
    "    j=j+1 "
   ]
  },
  {
   "cell_type": "code",
   "execution_count": null,
   "id": "1277aa6d",
   "metadata": {},
   "outputs": [],
   "source": [
    "****\n",
    "***\n",
    "**\n",
    "*"
   ]
  },
  {
   "cell_type": "code",
   "execution_count": 5,
   "id": "13b14ba1",
   "metadata": {},
   "outputs": [
    {
     "name": "stdout",
     "output_type": "stream",
     "text": [
      "4\n",
      "****\n",
      "***\n",
      "**\n",
      "*\n"
     ]
    }
   ],
   "source": [
    "n=int(input())\n",
    "i=0\n",
    "\n",
    "while i<n:              #for no. of rows\n",
    "    j=n-i                 \n",
    "    while j>0:          #for no. of columns\n",
    "        print(\"*\",end='')\n",
    "        j=j-1\n",
    "    print()    \n",
    "    i=i+1"
   ]
  },
  {
   "cell_type": "code",
   "execution_count": null,
   "id": "42a169c6",
   "metadata": {},
   "outputs": [],
   "source": [
    "Inverted triangle\n",
    "---*\n",
    "--**\n",
    "-***\n",
    "****"
   ]
  },
  {
   "cell_type": "code",
   "execution_count": 9,
   "id": "0b77f23f",
   "metadata": {},
   "outputs": [
    {
     "name": "stdout",
     "output_type": "stream",
     "text": [
      "3\n",
      "  *\n",
      " **\n",
      "***\n"
     ]
    }
   ],
   "source": [
    "n=int(input())\n",
    "\n",
    "j=0\n",
    "t=n\n",
    "while j<n:\n",
    "    i=t-1\n",
    "    while i>0:\n",
    "        print(\" \",end='')    #end='' for space after star, not the by default next line movement\n",
    "        i=i-1\n",
    "    k=0    \n",
    "    while k<j+1:\n",
    "        print(\"*\",end='')    #end='' for space after star, not the by default next line movement\n",
    "        k=k+1\n",
    "    print()\n",
    "    t=t-1\n",
    "    j=j+1  "
   ]
  },
  {
   "cell_type": "markdown",
   "id": "61bed755",
   "metadata": {},
   "source": [
    "## Character Pattern"
   ]
  },
  {
   "cell_type": "code",
   "execution_count": null,
   "id": "71ba8dae",
   "metadata": {},
   "outputs": [],
   "source": [
    "ABCD\n",
    "ABCD\n",
    "ABCD\n",
    "ABCD"
   ]
  },
  {
   "cell_type": "code",
   "execution_count": 17,
   "id": "d72481cb",
   "metadata": {},
   "outputs": [
    {
     "name": "stdout",
     "output_type": "stream",
     "text": [
      "4\n",
      "ABCD\n",
      "ABCD\n",
      "ABCD\n",
      "ABCD\n"
     ]
    }
   ],
   "source": [
    "n=int(input())\n",
    "i=0\n",
    "             \n",
    "while i<n:              #for no. of rows\n",
    "    j=0  \n",
    "    c=ord('A')          #ord() method gives the ASCII no. of the value\n",
    "    while j<n:          #for no. of columns\n",
    "        print(chr(c),end='')          #chr() method coverts ASCII no. to its character\n",
    "        c=c+1\n",
    "        j=j+1\n",
    "    print()    \n",
    "    i=i+1\n",
    "\n"
   ]
  },
  {
   "cell_type": "code",
   "execution_count": null,
   "id": "f82e1f4a",
   "metadata": {},
   "outputs": [],
   "source": [
    "ABCD\n",
    "EFGH\n",
    "IJKL\n",
    "MNOP"
   ]
  },
  {
   "cell_type": "code",
   "execution_count": 22,
   "id": "b65d71c7",
   "metadata": {},
   "outputs": [
    {
     "name": "stdout",
     "output_type": "stream",
     "text": [
      "4\n",
      "ABCD\n",
      "EFGH\n",
      "IJKL\n",
      "MNOP\n"
     ]
    }
   ],
   "source": [
    "n=int(input())\n",
    "i=0\n",
    "c=ord('A')          #ord() method gives the ASCII no. of the value             \n",
    "while i<n:              #for no. of rows\n",
    "    j=0    \n",
    "    while j<n:          #for no. of columns\n",
    "        print(chr(c),end='')          #chr() method coverts ASCII no. to its character\n",
    "        c=c+1\n",
    "        j=j+1\n",
    "    print()    \n",
    "    i=i+1\n"
   ]
  },
  {
   "cell_type": "code",
   "execution_count": null,
   "id": "eaad1559",
   "metadata": {},
   "outputs": [],
   "source": [
    "ABCD\n",
    "BCDE\n",
    "CDEF\n",
    "DEFG"
   ]
  },
  {
   "cell_type": "code",
   "execution_count": 29,
   "id": "5c792852",
   "metadata": {},
   "outputs": [
    {
     "name": "stdout",
     "output_type": "stream",
     "text": [
      "4\n",
      "ABCD\n",
      "BCDE\n",
      "CDEF\n",
      "DEFG\n"
     ]
    }
   ],
   "source": [
    "n=int(input())\n",
    "i=0\n",
    "c=ord('A')          #ord() method gives the ASCII no. of the value             \n",
    "while i<n:              #for no. of rows\n",
    "    j=0 \n",
    "    t=c\n",
    "    while j<n:          #for no. of columns\n",
    "        print(chr(t),end='')          #chr() method coverts ASCII no. to its character\n",
    "        t=t+1\n",
    "        j=j+1\n",
    "    print()    \n",
    "    i=i+1\n",
    "    c=c+1"
   ]
  },
  {
   "cell_type": "code",
   "execution_count": null,
   "id": "3efa5e3a",
   "metadata": {},
   "outputs": [],
   "source": [
    "# Another way for above"
   ]
  },
  {
   "cell_type": "code",
   "execution_count": 1,
   "id": "1a3a249e",
   "metadata": {},
   "outputs": [
    {
     "name": "stdout",
     "output_type": "stream",
     "text": [
      "4\n",
      "ABCD\n",
      "BCDE\n",
      "CDEF\n",
      "DEFG\n"
     ]
    }
   ],
   "source": [
    "n=int(input())\n",
    "i=0\n",
    "           \n",
    "while i<n:              #for no. of rows\n",
    "    j=0    \n",
    "    while j<n:          #for no. of columns\n",
    "        c=ord('A')+j          #ord() method gives the ASCII no. of the value  \n",
    "        print(chr(c+i),end='')          #chr() method coverts ASCII no. to its character\n",
    "        j=j+1\n",
    "    print()    \n",
    "    i=i+1"
   ]
  },
  {
   "cell_type": "code",
   "execution_count": null,
   "id": "f302a358",
   "metadata": {},
   "outputs": [],
   "source": [
    "---1---\n",
    "--121--\n",
    "-12321-\n",
    "1234321"
   ]
  },
  {
   "cell_type": "code",
   "execution_count": 9,
   "id": "364a5cf5",
   "metadata": {},
   "outputs": [
    {
     "name": "stdout",
     "output_type": "stream",
     "text": [
      "5\n",
      "    1\n",
      "   121\n",
      "  12321\n",
      " 1234321\n"
     ]
    }
   ],
   "source": [
    "n=int(input())\n",
    "i=1\n",
    "while i<n:\n",
    "    j=n-i\n",
    "    while j>0:               #spaces\n",
    "        print(\" \",end='')\n",
    "        j=j-1 \n",
    "    startNo=1\n",
    "    while startNo<=i:       #increasing squence\n",
    "        print(startNo,end='')\n",
    "        startNo=startNo+1 \n",
    "    endNo=i-1\n",
    "    while endNo>0:          #decreasing sequence\n",
    "        print(endNo,end='')\n",
    "        endNo=endNo-1\n",
    "    print()\n",
    "    i=i+1"
   ]
  },
  {
   "cell_type": "code",
   "execution_count": null,
   "id": "52ac9f5f",
   "metadata": {},
   "outputs": [],
   "source": [
    "---1---\n",
    "--232--\n",
    "-34543-\n",
    "4567654"
   ]
  },
  {
   "cell_type": "code",
   "execution_count": 12,
   "id": "9b12703d",
   "metadata": {},
   "outputs": [
    {
     "name": "stdout",
     "output_type": "stream",
     "text": [
      "4\n",
      "   121\n",
      "  23421\n",
      " 3456321\n"
     ]
    }
   ],
   "source": [
    "n=int(input())\n",
    "i=1\n",
    "while i<n:\n",
    "    k=0\n",
    "    j=n-i\n",
    "    while j>0:               #spaces\n",
    "        print(\" \",end='')\n",
    "        j=j-1 \n",
    "    startNo=i\n",
    "    j=0\n",
    "    while j<i+1:       #increasing squence\n",
    "        print(startNo,end='')\n",
    "        startNo=startNo+1\n",
    "        j=j+1\n",
    "        \n",
    "    endNo=i\n",
    "    j=0\n",
    "    while j<i:          #decreasing sequence\n",
    "        print(endNo,end='')\n",
    "        endNo=endNo-1\n",
    "        j=j+1\n",
    "    print()\n",
    "    i=i+1"
   ]
  }
 ],
 "metadata": {
  "kernelspec": {
   "display_name": "Python 3 (ipykernel)",
   "language": "python",
   "name": "python3"
  },
  "language_info": {
   "codemirror_mode": {
    "name": "ipython",
    "version": 3
   },
   "file_extension": ".py",
   "mimetype": "text/x-python",
   "name": "python",
   "nbconvert_exporter": "python",
   "pygments_lexer": "ipython3",
   "version": "3.11.5"
  }
 },
 "nbformat": 4,
 "nbformat_minor": 5
}
