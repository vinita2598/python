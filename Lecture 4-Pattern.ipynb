{
 "cells": [
  {
   "cell_type": "markdown",
   "id": "04c86add",
   "metadata": {},
   "source": [
    "### Step to think before writing code for pattern\n",
    "1- How many rows?\n",
    "2- how many columns to print for ith row?\n",
    "3- What to print?"
   ]
  },
  {
   "cell_type": "markdown",
   "id": "115d16c1",
   "metadata": {},
   "source": [
    "Square pattern\n",
    "*****\n",
    "*****\n",
    "*****"
   ]
  },
  {
   "cell_type": "code",
   "execution_count": 20,
   "id": "67b9d774",
   "metadata": {
    "scrolled": true
   },
   "outputs": [
    {
     "name": "stdout",
     "output_type": "stream",
     "text": [
      "4\n",
      "****\n",
      "****\n",
      "****\n",
      "****\n"
     ]
    }
   ],
   "source": [
    "n=int(input())\n",
    "\n",
    "j=0\n",
    "while j<n:\n",
    "    i=0\n",
    "    while i<n:\n",
    "        print(\"*\",end='')    #end='' for space after star, not the by default next line movement\n",
    "        i=i+1\n",
    "    print()        \n",
    "    j=j+1   "
   ]
  },
  {
   "cell_type": "markdown",
   "id": "933c563a",
   "metadata": {},
   "source": [
    "*\n",
    "**\n",
    "***\n",
    "****"
   ]
  },
  {
   "cell_type": "code",
   "execution_count": 35,
   "id": "2a900a83",
   "metadata": {},
   "outputs": [
    {
     "name": "stdout",
     "output_type": "stream",
     "text": [
      "4\n",
      "*\n",
      "**\n",
      "***\n",
      "****\n"
     ]
    }
   ],
   "source": [
    "n=int(input())\n",
    "\n",
    "j=0\n",
    "while j<n:\n",
    "    i=0\n",
    "    while i<j+1:\n",
    "        print(\"*\",end='')    #end='' for space after star, not the by default next line movement\n",
    "        i=i+1\n",
    "    print()        \n",
    "    j=j+1 "
   ]
  },
  {
   "cell_type": "markdown",
   "id": "6b778afc",
   "metadata": {},
   "source": [
    "Square pattern\n",
    "1111\n",
    "2222\n",
    "3333\n",
    "4444"
   ]
  },
  {
   "cell_type": "code",
   "execution_count": 24,
   "id": "a04ae463",
   "metadata": {},
   "outputs": [
    {
     "name": "stdout",
     "output_type": "stream",
     "text": [
      "4\n",
      "1111\n",
      "2222\n",
      "3333\n",
      "4444\n"
     ]
    }
   ],
   "source": [
    "n=int(input())\n",
    "\n",
    "j=1\n",
    "while j<=n:\n",
    "    i=1\n",
    "    while i<=n:\n",
    "        print(j,end='')    #end='' for space after star, not the by default next line movement\n",
    "        i=i+1\n",
    "    print()        \n",
    "    j=j+1  "
   ]
  },
  {
   "cell_type": "markdown",
   "id": "e9bfc404",
   "metadata": {},
   "source": [
    "Square pattern\n",
    "1234\n",
    "1234\n",
    "1234\n",
    "1234"
   ]
  },
  {
   "cell_type": "code",
   "execution_count": 26,
   "id": "a1e30722",
   "metadata": {},
   "outputs": [
    {
     "name": "stdout",
     "output_type": "stream",
     "text": [
      "3\n",
      "123\n",
      "123\n",
      "123\n"
     ]
    }
   ],
   "source": [
    "n=int(input())\n",
    "\n",
    "j=1\n",
    "while j<=n:\n",
    "    i=1\n",
    "    while i<=n:\n",
    "        print(i,end='')    #end='' for space after star, not the by default next line movement\n",
    "        i=i+1\n",
    "    print()        \n",
    "    j=j+1  "
   ]
  },
  {
   "cell_type": "markdown",
   "id": "7666b6e8",
   "metadata": {},
   "source": [
    "Square pattern\n",
    "4321\n",
    "4321\n",
    "4321\n",
    "4321"
   ]
  },
  {
   "cell_type": "code",
   "execution_count": 30,
   "id": "ce1fd5d2",
   "metadata": {},
   "outputs": [
    {
     "name": "stdout",
     "output_type": "stream",
     "text": [
      "4\n",
      "4321\n",
      "4321\n",
      "4321\n",
      "4321\n"
     ]
    }
   ],
   "source": [
    "n=int(input())\n",
    "\n",
    "j=1\n",
    "while j<=n:\n",
    "    i=1\n",
    "    k=n\n",
    "    while i<=n:   \n",
    "        print(k,end='')    #end='' for space after star, not the by default next line movement\n",
    "        k=k-1\n",
    "        i=i+1\n",
    "    print()        \n",
    "    j=j+1  "
   ]
  },
  {
   "cell_type": "markdown",
   "id": "bb6ec6a0",
   "metadata": {},
   "source": [
    "1\n",
    "123\n",
    "1234"
   ]
  },
  {
   "cell_type": "code",
   "execution_count": 33,
   "id": "a65dc8bb",
   "metadata": {},
   "outputs": [
    {
     "name": "stdout",
     "output_type": "stream",
     "text": [
      "4\n",
      "1\n",
      "12\n",
      "123\n",
      "1234\n"
     ]
    }
   ],
   "source": [
    "n=int(input())\n",
    "\n",
    "j=1\n",
    "while j<=n:\n",
    "    i=1\n",
    "    while i<j+1:\n",
    "        print(i,end='')    #end='' for space after star, not the by default next line movement\n",
    "        i=i+1\n",
    "    print()        \n",
    "    j=j+1"
   ]
  },
  {
   "cell_type": "code",
   "execution_count": null,
   "id": "87072b55",
   "metadata": {},
   "outputs": [],
   "source": [
    "1\n",
    "23\n",
    "345\n",
    "4567"
   ]
  },
  {
   "cell_type": "code",
   "execution_count": 40,
   "id": "085d3555",
   "metadata": {},
   "outputs": [
    {
     "name": "stdout",
     "output_type": "stream",
     "text": [
      "4\n",
      "1\n",
      "23\n",
      "345\n",
      "4567\n"
     ]
    }
   ],
   "source": [
    "n=int(input())\n",
    "\n",
    "j=1\n",
    "while j<=n:   #for number of rows\n",
    "    i=1\n",
    "    k=j\n",
    "    while i<j+1:      #for number of columns\n",
    "        print(k,end='')    #end='' for space after star, not the by default next line movement\n",
    "        k=k+1\n",
    "        i=i+1\n",
    "    print()        \n",
    "    j=j+1 "
   ]
  },
  {
   "cell_type": "code",
   "execution_count": null,
   "id": "7f3b8637",
   "metadata": {},
   "outputs": [],
   "source": [
    "1\n",
    "23\n",
    "456\n",
    "78910"
   ]
  },
  {
   "cell_type": "code",
   "execution_count": 41,
   "id": "63a10489",
   "metadata": {},
   "outputs": [
    {
     "name": "stdout",
     "output_type": "stream",
     "text": [
      "4\n",
      "1\n",
      "23\n",
      "456\n",
      "78910\n"
     ]
    }
   ],
   "source": [
    "n=int(input())\n",
    "k=1\n",
    "j=1\n",
    "while j<=n:                #for number of rows\n",
    "    i=1\n",
    "    while i<j+1:           #for number of columns\n",
    "        print(k,end='')    #end='' for space after star, not the by default next line movement\n",
    "        k=k+1\n",
    "        i=i+1\n",
    "    print()        \n",
    "    j=j+1 "
   ]
  },
  {
   "cell_type": "code",
   "execution_count": null,
   "id": "13b14ba1",
   "metadata": {},
   "outputs": [],
   "source": []
  }
 ],
 "metadata": {
  "kernelspec": {
   "display_name": "Python 3 (ipykernel)",
   "language": "python",
   "name": "python3"
  },
  "language_info": {
   "codemirror_mode": {
    "name": "ipython",
    "version": 3
   },
   "file_extension": ".py",
   "mimetype": "text/x-python",
   "name": "python",
   "nbconvert_exporter": "python",
   "pygments_lexer": "ipython3",
   "version": "3.11.5"
  }
 },
 "nbformat": 4,
 "nbformat_minor": 5
}
