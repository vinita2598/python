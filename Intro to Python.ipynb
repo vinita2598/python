{
 "cells": [
  {
   "cell_type": "markdown",
   "id": "fc2daf5e",
   "metadata": {},
   "source": [
    "## Intro to Jupyter\n",
    " We can write markdown or python code in our cell.You can choose accordingly in the dropdown above.\n"
   ]
  },
  {
   "cell_type": "code",
   "execution_count": 4,
   "id": "0d2cd539",
   "metadata": {},
   "outputs": [
    {
     "name": "stdout",
     "output_type": "stream",
     "text": [
      "hello\n"
     ]
    },
    {
     "data": {
      "text/plain": [
       "10"
      ]
     },
     "execution_count": 4,
     "metadata": {},
     "output_type": "execute_result"
    }
   ],
   "source": [
    "\n",
    "print(\"hello\") #hello is the output of the code segment \n",
    "10             #10 is the output of the cell\n"
   ]
  },
  {
   "cell_type": "markdown",
   "id": "f082c550",
   "metadata": {},
   "source": [
    "### Variables\n",
    "To create storage we use vaiables.\n",
    "\n",
    "Variable name can only start with underscore/lcase/ucase.It cannot be a number"
   ]
  },
  {
   "cell_type": "code",
   "execution_count": 11,
   "id": "f5aa08e2",
   "metadata": {},
   "outputs": [
    {
     "ename": "SyntaxError",
     "evalue": "invalid decimal literal (2037810040.py, line 3)",
     "output_type": "error",
     "traceback": [
      "\u001b[1;36m  Cell \u001b[1;32mIn[11], line 3\u001b[1;36m\u001b[0m\n\u001b[1;33m    12sc=89\u001b[0m\n\u001b[1;37m     ^\u001b[0m\n\u001b[1;31mSyntaxError\u001b[0m\u001b[1;31m:\u001b[0m invalid decimal literal\n"
     ]
    }
   ],
   "source": [
    "ab_c1=10\n",
    "_ss=20\n",
    "# 12sc=89\n"
   ]
  },
  {
   "cell_type": "markdown",
   "id": "69f588ad",
   "metadata": {},
   "source": [
    "### Assigning different type of data to a variables\n",
    "In case of java it provide fix storage space based on datatype while in python there is flexible space"
   ]
  },
  {
   "cell_type": "markdown",
   "id": "298c66f1",
   "metadata": {},
   "source": [
    "a=10     # \"a\" is storing the address of the place where 10 is stored\n",
    "a=20     # \"a\" is storing the address of the place where 20 is stored\n",
    "a=\"abnc\" # \"a\" is storing the address of the place where \"abnc\" is stored\n",
    "a"
   ]
  },
  {
   "cell_type": "code",
   "execution_count": 10,
   "id": "4eb3e9cc",
   "metadata": {},
   "outputs": [
    {
     "name": "stdout",
     "output_type": "stream",
     "text": [
      "<class 'str'>\n",
      "<class 'int'>\n"
     ]
    }
   ],
   "source": [
    "a=\"abc\"\n",
    "print(type(a))\n",
    "a=10\n",
    "print(type(a))"
   ]
  },
  {
   "cell_type": "markdown",
   "id": "4f694250",
   "metadata": {},
   "source": [
    "### Python Numbers"
   ]
  },
  {
   "cell_type": "code",
   "execution_count": 13,
   "id": "b6a1352d",
   "metadata": {},
   "outputs": [
    {
     "name": "stdout",
     "output_type": "stream",
     "text": [
      "<class 'int'>\n",
      "<class 'float'>\n",
      "<class 'complex'>\n"
     ]
    }
   ],
   "source": [
    "a1=23\n",
    "a2=3.4\n",
    "a3=2+5j\n",
    "print(type(a1))\n",
    "print(type(a2))\n",
    "print(type(a3))\n",
    "# a1"
   ]
  },
  {
   "cell_type": "markdown",
   "id": "82c311b3",
   "metadata": {},
   "source": [
    "### Address/id of a variable"
   ]
  },
  {
   "cell_type": "code",
   "execution_count": 16,
   "id": "7e92c4d5",
   "metadata": {},
   "outputs": [
    {
     "name": "stdout",
     "output_type": "stream",
     "text": [
      "140726528742472\n",
      "140726528742504\n"
     ]
    }
   ],
   "source": [
    "a=10\n",
    "print(id(a))\n",
    "a=a+1\n",
    "print(id(a))\n",
    "#a"
   ]
  },
  {
   "cell_type": "code",
   "execution_count": null,
   "id": "a865ab07",
   "metadata": {},
   "outputs": [],
   "source": []
  }
 ],
 "metadata": {
  "kernelspec": {
   "display_name": "Python 3 (ipykernel)",
   "language": "python",
   "name": "python3"
  },
  "language_info": {
   "codemirror_mode": {
    "name": "ipython",
    "version": 3
   },
   "file_extension": ".py",
   "mimetype": "text/x-python",
   "name": "python",
   "nbconvert_exporter": "python",
   "pygments_lexer": "ipython3",
   "version": "3.11.5"
  }
 },
 "nbformat": 4,
 "nbformat_minor": 5
}
