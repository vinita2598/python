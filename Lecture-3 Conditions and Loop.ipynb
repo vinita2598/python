{
 "cells": [
  {
   "cell_type": "markdown",
   "id": "003e3673",
   "metadata": {},
   "source": [
    "## Boolean"
   ]
  },
  {
   "cell_type": "code",
   "execution_count": 2,
   "id": "6960c3b6",
   "metadata": {},
   "outputs": [
    {
     "data": {
      "text/plain": [
       "bool"
      ]
     },
     "execution_count": 2,
     "metadata": {},
     "output_type": "execute_result"
    }
   ],
   "source": [
    "a=True\n",
    "b=False\n",
    "type(b)\n"
   ]
  },
  {
   "cell_type": "code",
   "execution_count": 5,
   "id": "f670572b",
   "metadata": {},
   "outputs": [
    {
     "name": "stdout",
     "output_type": "stream",
     "text": [
      "False\n",
      "True\n",
      "True\n",
      "False\n",
      "False\n",
      "True\n"
     ]
    }
   ],
   "source": [
    "## Realation operators\n",
    "a=10\n",
    "b=20\n",
    "print(a>b)\n",
    "print(a<b)\n",
    "print(a<=b)\n",
    "print(a>=b)\n",
    "print(a==b)\n",
    "print(a!=b)"
   ]
  },
  {
   "cell_type": "markdown",
   "id": "6661626e",
   "metadata": {},
   "source": [
    "## Logical Operator\n"
   ]
  },
  {
   "cell_type": "code",
   "execution_count": 7,
   "id": "6c588c6e",
   "metadata": {},
   "outputs": [
    {
     "name": "stdout",
     "output_type": "stream",
     "text": [
      "False\n",
      "True\n",
      "True\n"
     ]
    }
   ],
   "source": [
    "c1=a>10\n",
    "c2=b>10\n",
    "r1=c1 and c2\n",
    "r2=c1 or c2\n",
    "r3=not(c1)\n",
    "print(r1)\n",
    "print(r2)\n",
    "print(r3)"
   ]
  },
  {
   "cell_type": "markdown",
   "id": "f034f44c",
   "metadata": {},
   "source": [
    "## IF ELSE\n",
    "Indentation(alignment of code) is very important in if else"
   ]
  },
  {
   "cell_type": "code",
   "execution_count": 11,
   "id": "a3185063",
   "metadata": {},
   "outputs": [
    {
     "name": "stdout",
     "output_type": "stream",
     "text": [
      "I am inside if\n",
      "if 2\n"
     ]
    }
   ],
   "source": [
    "a=True\n",
    "if a:\n",
    "    print(\"I am inside if\")\n",
    "    print(\"if 2\")\n",
    "else:\n",
    "    print(\"inside else\")"
   ]
  },
  {
   "cell_type": "code",
   "execution_count": 14,
   "id": "1cc861c6",
   "metadata": {
    "scrolled": true
   },
   "outputs": [
    {
     "name": "stdout",
     "output_type": "stream",
     "text": [
      "9\n",
      "n is odd\n"
     ]
    }
   ],
   "source": [
    "#Check number to be odd or even\n",
    "n=int(input())\n",
    "r=n%2\n",
    "is_even=(r==0)\n",
    "if is_even:\n",
    "    print(\"n is even\")\n",
    "else:\n",
    "    print(\"n is odd\")\n"
   ]
  },
  {
   "cell_type": "code",
   "execution_count": 15,
   "id": "3f8218fe",
   "metadata": {},
   "outputs": [
    {
     "name": "stdout",
     "output_type": "stream",
     "text": [
      "0\n",
      "n is even\n"
     ]
    }
   ],
   "source": [
    "#Another way\n",
    "n=int(input())\n",
    "\n",
    "if n%2==0:\n",
    "    print(\"n is even\")\n",
    "else:\n",
    "    print(\"n is odd\")"
   ]
  }
 ],
 "metadata": {
  "kernelspec": {
   "display_name": "Python 3 (ipykernel)",
   "language": "python",
   "name": "python3"
  },
  "language_info": {
   "codemirror_mode": {
    "name": "ipython",
    "version": 3
   },
   "file_extension": ".py",
   "mimetype": "text/x-python",
   "name": "python",
   "nbconvert_exporter": "python",
   "pygments_lexer": "ipython3",
   "version": "3.11.5"
  }
 },
 "nbformat": 4,
 "nbformat_minor": 5
}
