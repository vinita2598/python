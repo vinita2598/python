{
 "cells": [
  {
   "cell_type": "markdown",
   "id": "bb47c95f",
   "metadata": {},
   "source": [
    "## Boolean"
   ]
  },
  {
   "cell_type": "code",
   "execution_count": 2,
   "id": "ac3aa04f",
   "metadata": {},
   "outputs": [
    {
     "data": {
      "text/plain": [
       "bool"
      ]
     },
     "execution_count": 2,
     "metadata": {},
     "output_type": "execute_result"
    }
   ],
   "source": [
    "a=True\n",
    "b=False\n",
    "type(b)\n"
   ]
  },
  {
   "cell_type": "code",
   "execution_count": 5,
   "id": "aa849620",
   "metadata": {},
   "outputs": [
    {
     "name": "stdout",
     "output_type": "stream",
     "text": [
      "False\n",
      "True\n",
      "True\n",
      "False\n",
      "False\n",
      "True\n"
     ]
    }
   ],
   "source": [
    "## Realation operators\n",
    "a=10\n",
    "b=20\n",
    "print(a>b)\n",
    "print(a<b)\n",
    "print(a<=b)\n",
    "print(a>=b)\n",
    "print(a==b)\n",
    "print(a!=b)"
   ]
  },
  {
   "cell_type": "markdown",
   "id": "cc7beb0a",
   "metadata": {},
   "source": [
    "## Logical Operator\n"
   ]
  },
  {
   "cell_type": "code",
   "execution_count": 7,
   "id": "e5ae9cbb",
   "metadata": {},
   "outputs": [
    {
     "name": "stdout",
     "output_type": "stream",
     "text": [
      "False\n",
      "True\n",
      "True\n"
     ]
    }
   ],
   "source": [
    "c1=a>10\n",
    "c2=b>10\n",
    "r1=c1 and c2\n",
    "r2=c1 or c2\n",
    "r3=not(c1)\n",
    "print(r1)\n",
    "print(r2)\n",
    "print(r3)"
   ]
  },
  {
   "cell_type": "markdown",
   "id": "7a600811",
   "metadata": {},
   "source": [
    "## IF ELSE\n",
    "Indentation(alignment of code) is very important in if else"
   ]
  },
  {
   "cell_type": "code",
   "execution_count": 11,
   "id": "ffed89cc",
   "metadata": {},
   "outputs": [
    {
     "name": "stdout",
     "output_type": "stream",
     "text": [
      "I am inside if\n",
      "if 2\n"
     ]
    }
   ],
   "source": [
    "a=True\n",
    "if a:\n",
    "    print(\"I am inside if\")\n",
    "    print(\"if 2\")\n",
    "else:\n",
    "    print(\"inside else\")"
   ]
  },
  {
   "cell_type": "code",
   "execution_count": 14,
   "id": "30bcd40d",
   "metadata": {
    "scrolled": true
   },
   "outputs": [
    {
     "name": "stdout",
     "output_type": "stream",
     "text": [
      "9\n",
      "n is odd\n"
     ]
    }
   ],
   "source": [
    "#Check number to be odd or even\n",
    "n=int(input())\n",
    "r=n%2\n",
    "is_even=(r==0)\n",
    "if is_even:\n",
    "    print(\"n is even\")\n",
    "else:\n",
    "    print(\"n is odd\")\n"
   ]
  },
  {
   "cell_type": "code",
   "execution_count": 16,
   "id": "978a197e",
   "metadata": {},
   "outputs": [
    {
     "name": "stdout",
     "output_type": "stream",
     "text": [
      "2\n",
      "n is even\n"
     ]
    }
   ],
   "source": [
    "#Another way\n",
    "n=int(input())\n",
    "\n",
    "if n%2==0:\n",
    "    print(\"n is even\")\n",
    "else:\n",
    "    print(\"n is odd\")"
   ]
  },
  {
   "cell_type": "code",
   "execution_count": 1,
   "id": "dfa20de5",
   "metadata": {},
   "outputs": [
    {
     "name": "stdout",
     "output_type": "stream",
     "text": [
      "89\n",
      "88\n",
      "both>10\n"
     ]
    }
   ],
   "source": [
    "#Using operaters in if else\n",
    "a=int(input())\n",
    "b=int(input())\n",
    "if a>10 and b>10:\n",
    "    print(\"both>10\")\n",
    "else:\n",
    "    print(\"no they are not\")\n",
    "   "
   ]
  },
  {
   "cell_type": "markdown",
   "id": "72ab4f86",
   "metadata": {},
   "source": [
    "## ELIF"
   ]
  },
  {
   "cell_type": "code",
   "execution_count": 3,
   "id": "ca3a7f58",
   "metadata": {},
   "outputs": [
    {
     "name": "stdout",
     "output_type": "stream",
     "text": [
      "0\n",
      "0\n"
     ]
    }
   ],
   "source": [
    "n=int(input())\n",
    "if n>10:\n",
    "    print(\"red\")\n",
    "elif n>=5:\n",
    "    print(\"green\")\n",
    "elif n>0:\n",
    "    print(\"yellow\")\n",
    "else:\n",
    "    print(n)"
   ]
  },
  {
   "cell_type": "code",
   "execution_count": 6,
   "id": "cb80dce5",
   "metadata": {},
   "outputs": [
    {
     "name": "stdout",
     "output_type": "stream",
     "text": [
      "9\n",
      "positive\n"
     ]
    }
   ],
   "source": [
    "# Given an integer n, find if n is positive, negative or 0\n",
    "a=int(input())\n",
    "if a<0:\n",
    "    print(\"negative\")\n",
    "elif a>0:\n",
    "    print(\"positive\")\n",
    "else:\n",
    "    print(\"zero\")"
   ]
  },
  {
   "cell_type": "markdown",
   "id": "7e146d76",
   "metadata": {},
   "source": [
    "## Nested if"
   ]
  },
  {
   "cell_type": "code",
   "execution_count": 12,
   "id": "5fafa827",
   "metadata": {},
   "outputs": [
    {
     "name": "stdout",
     "output_type": "stream",
     "text": [
      "6\n",
      "7\n",
      "2\n"
     ]
    }
   ],
   "source": [
    "a=int(input())\n",
    "b=int(input())\n",
    "if a%2==0:\n",
    "    if b%2==0:\n",
    "        print(\"1\")\n",
    "    else:\n",
    "        print(\"2\")\n",
    "else:\n",
    "    print(\"3\")\n",
    "    "
   ]
  },
  {
   "cell_type": "markdown",
   "id": "e68626df",
   "metadata": {},
   "source": [
    "## While loop"
   ]
  },
  {
   "cell_type": "code",
   "execution_count": 14,
   "id": "baea7bc8",
   "metadata": {},
   "outputs": [
    {
     "name": "stdout",
     "output_type": "stream",
     "text": [
      "2\n",
      "1\n",
      "2\n"
     ]
    }
   ],
   "source": [
    "# print first n natural number\n",
    "n=int(input())\n",
    "count=1\n",
    "while count<= n:\n",
    "    print(count)\n",
    "    count=count+1\n",
    "    \n",
    "   "
   ]
  },
  {
   "cell_type": "code",
   "execution_count": 18,
   "id": "71f68ca1",
   "metadata": {},
   "outputs": [
    {
     "name": "stdout",
     "output_type": "stream",
     "text": [
      "7\n",
      "28\n"
     ]
    }
   ],
   "source": [
    "# find and print the sum of numbers from 1 to n\n",
    "a=int(input())\n",
    "n=1\n",
    "sum=0\n",
    "while(n<=a):\n",
    "    sum=sum+n\n",
    "    n=n+1\n",
    "print(sum)    "
   ]
  },
  {
   "cell_type": "code",
   "execution_count": null,
   "id": "fc0b8dd9",
   "metadata": {},
   "outputs": [],
   "source": [
    "#Check Prime\n",
    "n=int(input())\n",
    "a=2\n",
    "flag= False\n",
    "while a<n:\n",
    "    if (n%a==0):\n",
    "        flag=True\n",
    "        a=a+1\n",
    "if flag:\n",
    "    print(\"prime\")\n",
    "else:\n",
    "    print(\"not prime\")"
   ]
  },
  {
   "cell_type": "code",
   "execution_count": 2,
   "id": "2ac04606",
   "metadata": {},
   "outputs": [
    {
     "name": "stdout",
     "output_type": "stream",
     "text": [
      "5\n"
     ]
    },
    {
     "ename": "KeyboardInterrupt",
     "evalue": "",
     "output_type": "error",
     "traceback": [
      "\u001b[1;31m---------------------------------------------------------------------------\u001b[0m",
      "\u001b[1;31mKeyboardInterrupt\u001b[0m                         Traceback (most recent call last)",
      "Cell \u001b[1;32mIn[2], line 5\u001b[0m\n\u001b[0;32m      3\u001b[0m d\u001b[38;5;241m=\u001b[39m\u001b[38;5;241m2\u001b[39m\n\u001b[0;32m      4\u001b[0m flag\u001b[38;5;241m=\u001b[39m \u001b[38;5;28;01mFalse\u001b[39;00m\n\u001b[1;32m----> 5\u001b[0m \u001b[38;5;28;01mwhile\u001b[39;00m d\u001b[38;5;241m<\u001b[39mn:\n\u001b[0;32m      6\u001b[0m     \u001b[38;5;28;01mif\u001b[39;00m (n\u001b[38;5;241m%\u001b[39md\u001b[38;5;241m==\u001b[39m\u001b[38;5;241m0\u001b[39m):\n\u001b[0;32m      7\u001b[0m         flag\u001b[38;5;241m=\u001b[39m\u001b[38;5;28;01mTrue\u001b[39;00m\n",
      "\u001b[1;31mKeyboardInterrupt\u001b[0m: "
     ]
    }
   ],
   "source": [
    "#Check Prime\n",
    "n=int(input())\n",
    "d=2\n",
    "flag= False\n",
    "while d < n:\n",
    "    if (n%d==0):\n",
    "        flag=True\n",
    "        d=d+1\n",
    "if flag:\n",
    "    print(\"prime\")\n",
    "else:\n",
    "    print(\"not prime\")"
   ]
  }
 ],
 "metadata": {
  "kernelspec": {
   "display_name": "Python 3 (ipykernel)",
   "language": "python",
   "name": "python3"
  },
  "language_info": {
   "codemirror_mode": {
    "name": "ipython",
    "version": 3
   },
   "file_extension": ".py",
   "mimetype": "text/x-python",
   "name": "python",
   "nbconvert_exporter": "python",
   "pygments_lexer": "ipython3",
   "version": "3.11.5"
  }
 },
 "nbformat": 4,
 "nbformat_minor": 5
}
